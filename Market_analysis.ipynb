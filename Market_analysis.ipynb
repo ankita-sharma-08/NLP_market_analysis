{
  "nbformat": 4,
  "nbformat_minor": 0,
  "metadata": {
    "colab": {
      "provenance": []
    },
    "kernelspec": {
      "name": "python3",
      "display_name": "Python 3"
    },
    "language_info": {
      "name": "python"
    }
  },
  "cells": [
    {
      "cell_type": "code",
      "source": [
        "import openai\n",
        "import spacy\n",
        "!pip install openai==0.28"
      ],
      "metadata": {
        "colab": {
          "base_uri": "https://localhost:8080/"
        },
        "id": "yR0qfZ00pH_5",
        "outputId": "7ccb1ab7-0d00-40c4-b830-afa9aed8f7d5"
      },
      "execution_count": 1,
      "outputs": [
        {
          "output_type": "stream",
          "name": "stdout",
          "text": [
            "Requirement already satisfied: openai==0.28 in /usr/local/lib/python3.11/dist-packages (0.28.0)\n",
            "Requirement already satisfied: requests>=2.20 in /usr/local/lib/python3.11/dist-packages (from openai==0.28) (2.32.3)\n",
            "Requirement already satisfied: tqdm in /usr/local/lib/python3.11/dist-packages (from openai==0.28) (4.67.1)\n",
            "Requirement already satisfied: aiohttp in /usr/local/lib/python3.11/dist-packages (from openai==0.28) (3.11.15)\n",
            "Requirement already satisfied: charset-normalizer<4,>=2 in /usr/local/lib/python3.11/dist-packages (from requests>=2.20->openai==0.28) (3.4.2)\n",
            "Requirement already satisfied: idna<4,>=2.5 in /usr/local/lib/python3.11/dist-packages (from requests>=2.20->openai==0.28) (3.10)\n",
            "Requirement already satisfied: urllib3<3,>=1.21.1 in /usr/local/lib/python3.11/dist-packages (from requests>=2.20->openai==0.28) (2.4.0)\n",
            "Requirement already satisfied: certifi>=2017.4.17 in /usr/local/lib/python3.11/dist-packages (from requests>=2.20->openai==0.28) (2025.7.14)\n",
            "Requirement already satisfied: aiohappyeyeballs>=2.3.0 in /usr/local/lib/python3.11/dist-packages (from aiohttp->openai==0.28) (2.6.1)\n",
            "Requirement already satisfied: aiosignal>=1.1.2 in /usr/local/lib/python3.11/dist-packages (from aiohttp->openai==0.28) (1.4.0)\n",
            "Requirement already satisfied: attrs>=17.3.0 in /usr/local/lib/python3.11/dist-packages (from aiohttp->openai==0.28) (25.3.0)\n",
            "Requirement already satisfied: frozenlist>=1.1.1 in /usr/local/lib/python3.11/dist-packages (from aiohttp->openai==0.28) (1.7.0)\n",
            "Requirement already satisfied: multidict<7.0,>=4.5 in /usr/local/lib/python3.11/dist-packages (from aiohttp->openai==0.28) (6.6.3)\n",
            "Requirement already satisfied: propcache>=0.2.0 in /usr/local/lib/python3.11/dist-packages (from aiohttp->openai==0.28) (0.3.2)\n",
            "Requirement already satisfied: yarl<2.0,>=1.17.0 in /usr/local/lib/python3.11/dist-packages (from aiohttp->openai==0.28) (1.20.1)\n",
            "Requirement already satisfied: typing-extensions>=4.2 in /usr/local/lib/python3.11/dist-packages (from aiosignal>=1.1.2->aiohttp->openai==0.28) (4.14.1)\n"
          ]
        }
      ]
    },
    {
      "cell_type": "code",
      "execution_count": 2,
      "metadata": {
        "id": "S6tAPC-xo05e"
      },
      "outputs": [],
      "source": [
        "openai.api_key = \"YOUR_OPENAI_API_KEY\""
      ]
    },
    {
      "cell_type": "code",
      "source": [
        "# Load Spacy NER model\n",
        "nlp = spacy.load(\"en_core_web_sm\")\n",
        "\n",
        "\n",
        "# Predefined list of stock market-related entities (extendable)\n",
        "stock_entities = [\"Apple\", \"Google\", \"Microsoft\", \"Tesla\", \"NASDAQ\", \"Dow Jones\", \"S&P 500\", \"Bitcoin\", \"Ethereum\"]"
      ],
      "metadata": {
        "id": "YRhay6t7pZwx"
      },
      "execution_count": 4,
      "outputs": []
    },
    {
      "cell_type": "code",
      "source": [
        "def analyze_sentiment(review, category):\n",
        "    prompt = f\"Analyze the sentiment of the following {category} statement in the context of stock market performance. \\\n",
        "    Classify it as Positive (bullish), Negative (bearish), or Neutral:\\n\\nStatement: {review}\"\n",
        "\n",
        "    response = openai.ChatCompletion.create(\n",
        "        model=\"gpt-3.5-turbo\",\n",
        "        messages=[\n",
        "            {\"role\": \"system\", \"content\": \"You are a sentiment analysis assistant specialized in financial markets.\"},\n",
        "            {\"role\": \"user\", \"content\": prompt},\n",
        "        ]\n",
        "    )\n",
        "\n",
        "    # Extract the sentiment classification\n",
        "    sentiment = response['choices'][0]['message']['content']\n",
        "    return sentiment.strip()"
      ],
      "metadata": {
        "id": "eDGlQ0OVplTH"
      },
      "execution_count": 7,
      "outputs": []
    },
    {
      "cell_type": "code",
      "source": [
        " #Function to perform Named Entity Recognition (NER)\n",
        "def extract_entities(review):\n",
        "    doc = nlp(review)\n",
        "    entities = [(ent.text, ent.label_) for ent in doc.ents]\n",
        "\n",
        "    # Additional filtering for financial entities\n",
        "    matched_stocks = [ent for ent in entities if ent[0] in stock_entities]\n",
        "    return matched_stocks if matched_stocks else entities  # Return matched stocks or original entities"
      ],
      "metadata": {
        "id": "rjM4_BPOptcB"
      },
      "execution_count": 8,
      "outputs": []
    },
    {
      "cell_type": "code",
      "source": [
        "# Main function to perform sentiment analysis and NER\n",
        "def main():\n",
        "    # Get input from user\n",
        "    category = input(\"Enter the category (e.g., Stock, Index, Crypto, Economy, Other): \").capitalize()\n",
        "    review = input(f\"Enter your market statement related to {category.lower()}: \")\n",
        "\n",
        "    if review:\n",
        "        print(\"\\nPerforming Stock Market Sentiment Analysis...\\n\")\n",
        "        sentiment_with_contributions = analyze_sentiment(review, category)\n",
        "        print(f\"Sentiment Analysis Result: {sentiment_with_contributions}\")\n",
        "\n",
        "        print(\"\\nPerforming Named Entity Recognition (NER)...\\n\")\n",
        "        entities = extract_entities(review)\n",
        "        print(f\"Identified Market Entities: {entities}\")\n",
        "    else:\n",
        "        print(\"Please enter a valid statement.\")\n",
        "\n",
        "# Run the main function\n",
        "main()"
      ],
      "metadata": {
        "colab": {
          "base_uri": "https://localhost:8080/"
        },
        "id": "CPrDB6FJp6Zl",
        "outputId": "907d3b4b-d03b-4d0c-c92b-c69ad53f438d"
      },
      "execution_count": 9,
      "outputs": [
        {
          "output_type": "stream",
          "name": "stdout",
          "text": [
            "Enter the category (e.g., Stock, Index, Crypto, Economy, Other): Stock\n",
            "Enter your market statement related to stock: Seem to go up in the coming month!, exited!!!\n",
            "\n",
            "Performing Stock Market Sentiment Analysis...\n",
            "\n",
            "Sentiment Analysis Result: Based on the statement \"Seem to go up in the coming month!, excited!!!\", the sentiment can be classified as Positive (bullish) in the context of stock market performance. The use of \"go up\" and \"excited\" indicates optimism and positivity towards potential stock market performance.\n",
            "\n",
            "Performing Named Entity Recognition (NER)...\n",
            "\n",
            "Identified Market Entities: [('the coming month', 'DATE')]\n"
          ]
        }
      ]
    },
    {
      "cell_type": "code",
      "source": [],
      "metadata": {
        "id": "CE0RWKHTp_QF"
      },
      "execution_count": null,
      "outputs": []
    }
  ]
}